{
  "nbformat": 4,
  "nbformat_minor": 0,
  "metadata": {
    "colab": {
      "provenance": [],
      "toc_visible": true
    },
    "kernelspec": {
      "name": "python3",
      "display_name": "Python 3"
    },
    "language_info": {
      "name": "python"
    }
  },
  "cells": [
    {
      "cell_type": "markdown",
      "source": [
        "# Ocean Regimes Identification"
      ],
      "metadata": {
        "id": "aRbHtbmd_Qzz"
      }
    },
    {
      "cell_type": "markdown",
      "source": [
        "<img src='https://unils-my.sharepoint.com/:i:/g/personal/tom_beucler_unil_ch/ESLP1e1BfUxKu-hchh7wZKcBZiG3bJnNbnt0PDDm3BK-9g?download=1'>\n",
        "\n",
        "<center>\n",
        "Photo Credits: <a href=\"https://unsplash.com/photos/zCMWw56qseM\">Sea Foam</a> by <a href=\"https://unsplash.com/@unstable_affliction\">Ivan Bandura</a> licensed under the <a href='https://unsplash.com/license'>Unsplash License</a>\n",
        "</center>\n",
        "\n",
        "\n",
        ">*A frequently asked question related to this work is “Which mixing processes matter most for climate?” As with many alluringly comprehensive sounding questions, the answer is “it depends.”* <br>\n",
        "> $\\qquad$ MacKinnon, Jennifer A., et al. <br>$\\qquad$\"Climate process team on internal wave–driven ocean mixing.\" <br>$\\qquad$ Bulletin of the American Meteorological Society 98.11 (2017): 2429-2454."
      ],
      "metadata": {
        "id": "dUurnKLqq1un"
      }
    },
    {
      "cell_type": "markdown",
      "source": [
        "In week 4's final notebook, we will perform clustering to identify regimes in data taken from the realistic numerical ocean model [Estimating the Circulation and Climate of the Ocean](https://www.ecco-group.org/products-ECCO-V4r4.htm). Sonnewald et al. point out that finding robust regimes is intractable with a naïve approach, so we will be using reduced dimensionality data.\n",
        "\n",
        "It is worth pointing out, however, that the reduction was done with an equation instead of one of the algorithms we discussed this week. If you're interested in the full details, you can check out [Sonnewald et al. (2019)](https://doi.org/10.1029/2018EA000519)"
      ],
      "metadata": {
        "id": "yT4KFNrpZIfY"
      }
    },
    {
      "cell_type": "markdown",
      "source": [
        "**Setup**"
      ],
      "metadata": {
        "id": "PHKbQVLOUC5v"
      }
    },
    {
      "cell_type": "markdown",
      "source": [
        "First, let's import a few common modules, ensure MatplotLib plots figures inline and prepare a function to save the figures. We also check that Python 3.5 or later is installed (although Python 2.x may work, it is deprecated so we strongly recommend you use Python 3 instead), as well as Scikit-Learn ≥0.20."
      ],
      "metadata": {
        "id": "4TxieA70pcLo"
      }
    },
    {
      "cell_type": "code",
      "execution_count": 1,
      "metadata": {
        "id": "S61_Smb9T6ad"
      },
      "outputs": [],
      "source": [
        "# Python ≥3.5 is required\n",
        "import sys\n",
        "assert sys.version_info >= (3, 5)\n",
        "\n",
        "# Scikit-Learn ≥0.20 is required\n",
        "import sklearn\n",
        "assert sklearn.__version__ >= \"0.20\"\n",
        "\n",
        "# Common imports\n",
        "import numpy as np\n",
        "import os\n",
        "import xarray as xr\n",
        "import pooch\n",
        "\n",
        "# to make this notebook's output stable across runs\n",
        "rnd_seed = 42\n",
        "rnd_gen = np.random.default_rng(rnd_seed)\n",
        "\n",
        "# To plot pretty figures\n",
        "%matplotlib inline\n",
        "import matplotlib as mpl\n",
        "import matplotlib.pyplot as plt\n",
        "mpl.rc('axes', labelsize=14)\n",
        "mpl.rc('xtick', labelsize=12)\n",
        "mpl.rc('ytick', labelsize=12)\n",
        "\n",
        "# Where to save the figures\n",
        "PROJECT_ROOT_DIR = \".\"\n",
        "CHAPTER_ID = \"dim_reduction\"\n",
        "IMAGES_PATH = os.path.join(PROJECT_ROOT_DIR, \"images\", CHAPTER_ID)\n",
        "os.makedirs(IMAGES_PATH, exist_ok=True)\n",
        "\n",
        "def save_fig(fig_id, tight_layout=True, fig_extension=\"png\", resolution=300):\n",
        "    path = os.path.join(IMAGES_PATH, fig_id + \".\" + fig_extension)\n",
        "    print(\"Saving figure\", fig_id)\n",
        "    if tight_layout:\n",
        "        plt.tight_layout()\n",
        "    plt.savefig(path, format=fig_extension, dpi=resolution)"
      ]
    },
    {
      "cell_type": "markdown",
      "source": [
        "Here we're going to import the [StandardScaler](https://duckduckgo.com/sklearn.preprocessing.standardscaler) function from scikit's preprocessing tools, import the [scikit clustering library](https://duckduckgo.com/sklearn.clustering), and set up the colormap that we will use when plotting."
      ],
      "metadata": {
        "id": "6vUFq1DYUqCx"
      }
    },
    {
      "cell_type": "code",
      "source": [
        "from sklearn.preprocessing import StandardScaler\n",
        "import sklearn.cluster as cluster\n",
        "\n",
        "from matplotlib.colors import LinearSegmentedColormap, ListedColormap\n",
        "colors = ['royalblue', 'cyan','yellow', 'orange', 'magenta', 'red']\n",
        "mycmap = ListedColormap(colors)"
      ],
      "metadata": {
        "id": "34PAL9TkUHd_"
      },
      "execution_count": 2,
      "outputs": []
    },
    {
      "cell_type": "markdown",
      "source": [
        "**Data Preprocessing**"
      ],
      "metadata": {
        "id": "Fr46ZRUjpTzo"
      }
    },
    {
      "cell_type": "markdown",
      "source": [
        "The first thing we need to do is retrieve the list of files we'll be working on. We'll rely on pooch to access the files hosted on the cloud."
      ],
      "metadata": {
        "id": "O9QOXpKGpgt7"
      }
    },
    {
      "cell_type": "code",
      "source": [
        "# Retrieve the files from the cloud using Pooch.\n",
        "data_url = 'https://unils-my.sharepoint.com/:u:/g/personal/tom_beucler_unil_ch/EUYqUzpIjoJBui02QEo6q1wBSN1Zsi1ofE6I3G4B9LJn_Q?download=1'\n",
        "hash = '3f41661c7a087fa7d7af1d2a8baf95c065468f8a415b8514baedda2f5bc18bb5'\n",
        "\n",
        "files = pooch.retrieve(data_url, known_hash=hash, processor=pooch.Unzip())\n",
        "[print(filename) for filename in files];"
      ],
      "metadata": {
        "id": "nDNJnzOAfKE_",
        "colab": {
          "base_uri": "https://localhost:8080/"
        },
        "outputId": "020a2ec0-9c1b-4fcb-de30-e6c9c01c69de"
      },
      "execution_count": 3,
      "outputs": [
        {
          "output_type": "stream",
          "name": "stderr",
          "text": [
            "Downloading data from 'https://unils-my.sharepoint.com/:u:/g/personal/tom_beucler_unil_ch/EUYqUzpIjoJBui02QEo6q1wBSN1Zsi1ofE6I3G4B9LJn_Q?download=1' to file '/root/.cache/pooch/8a10ee1ae6941d8b9bb543c954c793fa-EUYqUzpIjoJBui02QEo6q1wBSN1Zsi1ofE6I3G4B9LJn_Q'.\n",
            "Unzipping contents of '/root/.cache/pooch/8a10ee1ae6941d8b9bb543c954c793fa-EUYqUzpIjoJBui02QEo6q1wBSN1Zsi1ofE6I3G4B9LJn_Q' to '/root/.cache/pooch/8a10ee1ae6941d8b9bb543c954c793fa-EUYqUzpIjoJBui02QEo6q1wBSN1Zsi1ofE6I3G4B9LJn_Q.unzip'\n"
          ]
        },
        {
          "output_type": "stream",
          "name": "stdout",
          "text": [
            "/root/.cache/pooch/8a10ee1ae6941d8b9bb543c954c793fa-EUYqUzpIjoJBui02QEo6q1wBSN1Zsi1ofE6I3G4B9LJn_Q.unzip/noiseMask.npy\n",
            "/root/.cache/pooch/8a10ee1ae6941d8b9bb543c954c793fa-EUYqUzpIjoJBui02QEo6q1wBSN1Zsi1ofE6I3G4B9LJn_Q.unzip/curlTau.npy\n",
            "/root/.cache/pooch/8a10ee1ae6941d8b9bb543c954c793fa-EUYqUzpIjoJBui02QEo6q1wBSN1Zsi1ofE6I3G4B9LJn_Q.unzip/curlB.npy\n",
            "/root/.cache/pooch/8a10ee1ae6941d8b9bb543c954c793fa-EUYqUzpIjoJBui02QEo6q1wBSN1Zsi1ofE6I3G4B9LJn_Q.unzip/curlCori.npy\n",
            "/root/.cache/pooch/8a10ee1ae6941d8b9bb543c954c793fa-EUYqUzpIjoJBui02QEo6q1wBSN1Zsi1ofE6I3G4B9LJn_Q.unzip/BPT.npy\n",
            "/root/.cache/pooch/8a10ee1ae6941d8b9bb543c954c793fa-EUYqUzpIjoJBui02QEo6q1wBSN1Zsi1ofE6I3G4B9LJn_Q.unzip/curlA.npy\n"
          ]
        }
      ]
    },
    {
      "cell_type": "markdown",
      "source": [
        "And now that we have a set of files to load, let's set up a dictionary with the variable names as keys and the data in numpy array format as the values."
      ],
      "metadata": {
        "id": "bZxAvW1gBbO1"
      }
    },
    {
      "cell_type": "code",
      "source": [
        "# Let's read in the variable names from the filepaths\n",
        "var_names = []\n",
        "[var_names.append(path.split('/')[-1][:-4]) for path in files]\n",
        "\n",
        "# And build a dictionary of the data variables keyed to the filenames\n",
        "data_dict = {}\n",
        "for idx, val in enumerate(var_names):\n",
        "    data_dict[val] = np.load(files[idx]).T\n",
        "\n",
        "#We'll print the name of the variable loaded and the associated shape\n",
        "[print(f'Varname: {item[0]:<15} Shape: {item[1].shape}') for item in data_dict.items()];"
      ],
      "metadata": {
        "id": "b8OmoBGHBkwG",
        "colab": {
          "base_uri": "https://localhost:8080/"
        },
        "outputId": "300ef603-8519-4a84-e49f-e9070e23918e"
      },
      "execution_count": 4,
      "outputs": [
        {
          "output_type": "stream",
          "name": "stdout",
          "text": [
            "Varname: noiseMask       Shape: (360, 720)\n",
            "Varname: curlTau         Shape: (360, 720)\n",
            "Varname: curlB           Shape: (360, 720)\n",
            "Varname: curlCori        Shape: (360, 720)\n",
            "Varname: BPT             Shape: (360, 720)\n",
            "Varname: curlA           Shape: (360, 720)\n"
          ]
        }
      ]
    },
    {
      "cell_type": "markdown",
      "source": [
        "We now have a dictionary that uses the filename as the key! Feel free to explore the data (e.g., loading the keys, checking the shape of the arrays, plotting)"
      ],
      "metadata": {
        "id": "RMbhwWTunLvz"
      }
    },
    {
      "cell_type": "code",
      "source": [
        "#Feel free to explore the data dictionary\n",
        "print(var_names)"
      ],
      "metadata": {
        "id": "rG2pgeH5pB4f",
        "colab": {
          "base_uri": "https://localhost:8080/"
        },
        "outputId": "59592281-1d19-4d6f-cf02-8e1275464680"
      },
      "execution_count": 5,
      "outputs": [
        {
          "output_type": "stream",
          "name": "stdout",
          "text": [
            "['noiseMask', 'curlTau', 'curlB', 'curlCori', 'BPT', 'curlA']\n"
          ]
        }
      ]
    },
    {
      "cell_type": "markdown",
      "source": [
        "We're eventually going to have an array of cluster classes that we're going to use to label dynamic regimes in the ocean. Let's make an array full of NaN (not-a-number) values that has the same shape as our other variables and store it in the data dictionary."
      ],
      "metadata": {
        "id": "xXwnzzbRtTYs"
      }
    },
    {
      "cell_type": "code",
      "source": [
        "data_dict['clusters'] = np.full_like(data_dict['BPT'],np.nan)"
      ],
      "metadata": {
        "id": "4VYRgr0cuHKg"
      },
      "execution_count": 6,
      "outputs": []
    },
    {
      "cell_type": "markdown",
      "source": [
        "## Reformatting as Xarray"
      ],
      "metadata": {
        "id": "pCumDPFEpFcf"
      }
    },
    {
      "cell_type": "markdown",
      "source": [
        "In the original paper, this data was loaded as numpy arrays. However, we'll take this opportunity to demonstrate the same procedure while relying on xarray. First, let's instantiate a blank dataset.<br><br>\n",
        "\n",
        "### Q1) Make a blank xarray dataset.<br>\n",
        "*Hint: Look at the xarray [documentation](https://duckduckgo.com/?q=xarray+dataset)*"
      ],
      "metadata": {
        "id": "vz_vQOCguax0"
      }
    },
    {
      "cell_type": "code",
      "source": [
        "# Make your blank dataset here! Instantiate the class without passing any parameters.\n",
        "ds= xr.Dataset()\n",
        "print(ds)"
      ],
      "metadata": {
        "id": "JIPsLT6g-INq",
        "colab": {
          "base_uri": "https://localhost:8080/"
        },
        "outputId": "a2fc019d-2ba4-4a32-c4cf-c1c99ff8a1bc"
      },
      "execution_count": 12,
      "outputs": [
        {
          "output_type": "stream",
          "name": "stdout",
          "text": [
            "<xarray.Dataset> Size: 0B\n",
            "Dimensions:  ()\n",
            "Data variables:\n",
            "    *empty*\n"
          ]
        }
      ]
    },
    {
      "cell_type": "markdown",
      "source": [
        "<img src='https://unils-my.sharepoint.com/:i:/g/personal/tom_beucler_unil_ch/EZv_qqVz_h1Hio6Nq11ckScBb01bGb9jtNKzdqAg1TPrKQ?download=1'>\n",
        "<center> Image taken from the xarray <a href='https://xarray.pydata.org/en/stable/user-guide/data-structures.html#:~:text=Dataset-,xarray.,from%20the%20netCDF%20file%20format.'> <i>Data Structure documentation</i> </a> </center>\n",
        "\n",
        "In order to build the dataset, we're going to need a set of coordinate vectors that help us map out our data! For our data, we have two axes corresponding to longitude ($\\lambda$) and latitude ($\\phi$).\n",
        "\n",
        "We don't know much about how many lat/lon points we have, so let's explore one of the variables to make sense of the data the shape of one of the numpy arrays.\n",
        "\n",
        "### Q2) Visualize the data using a plot and printing the shape of the data to the console output."
      ],
      "metadata": {
        "id": "jJK9Ud9tp3_r"
      }
    },
    {
      "cell_type": "code",
      "source": [
        "#Complete the code\n",
        "# Let's print out an image of the Bottom Pressure Torques (BPT)\n",
        "plt.imshow( data_dict['BPT'] , origin='lower')"
      ],
      "metadata": {
        "id": "Kiw2tAT1D6Ny",
        "colab": {
          "base_uri": "https://localhost:8080/",
          "height": 330
        },
        "outputId": "5fa79237-1173-4de7-b057-77d9711f335a"
      },
      "execution_count": 8,
      "outputs": [
        {
          "output_type": "execute_result",
          "data": {
            "text/plain": [
              "<matplotlib.image.AxesImage at 0x7e842312f910>"
            ]
          },
          "metadata": {},
          "execution_count": 8
        },
        {
          "output_type": "display_data",
          "data": {
            "text/plain": [
              "<Figure size 640x480 with 1 Axes>"
            ],
            "image/png": "[encoded data removed]"
          },
          "metadata": {}
        }
      ]
    },
    {
      "cell_type": "code",
      "source": [
        "# It will also be useful to store and print out the shape of the data\n",
        "data_shape = data_dict['BPT'].shape\n",
        "print(data_shape)"
      ],
      "metadata": {
        "id": "k6E_4MivCoWQ",
        "colab": {
          "base_uri": "https://localhost:8080/"
        },
        "outputId": "e2230f34-6d61-4592-8d77-215ebf770b2b"
      },
      "execution_count": 9,
      "outputs": [
        {
          "output_type": "stream",
          "name": "stdout",
          "text": [
            "(360, 720)\n"
          ]
        }
      ]
    },
    {
      "cell_type": "markdown",
      "source": [
        "Now that we know how the resolution of our data, we can prepare a set of axis arrays. We will use these to organize the data we will feed into the dataset.\n",
        "\n",
        "### Q3) Prepare the latitude and longitude arrays to be used as axes for our dataset\n",
        "\n",
        "*Hint 1: You can build ordered numpy arrays using, e.g., [numpy.linspace](https://numpy.org/doc/stable/reference/generated/numpy.linspace.html) and [numpy.arange](https://numpy.org/doc/stable/reference/generated/numpy.arange.html)*\n",
        "\n",
        "*Hint 2: You can rely on the data_shape variable we loaded previously to know how many points you need along each axis*"
      ],
      "metadata": {
        "id": "aXyxepjm-N5z"
      }
    },
    {
      "cell_type": "code",
      "source": [
        "#Complete the code\n",
        "# Let's prepare the lat and lon axes for our data.\n",
        "lat = np.linspace(-90, 90, data_dict['BPT'].shape[0])\n",
        "lon = np.linspace(-180, 180, data_dict['BPT'].shape[1])"
      ],
      "metadata": {
        "id": "vwzO0ZWMNHKg"
      },
      "execution_count": 10,
      "outputs": []
    },
    {
      "cell_type": "markdown",
      "source": [
        "Now that we have the axes we need, we can build xarray [*data arrays*](https://xarray.pydata.org/en/stable/generated/xarray.DataArray.html) for each data variable. Since we'll be doing it several times, let's go ahead and defined a function that does this for us!\n",
        "\n",
        "### Q4) Define a function that takes in: 1) an array name, 2) a numpy array, 3) a lat vector, and 4) a lon vector. The function should return a dataArray with lat-lon as the coordinate dimensions"
      ],
      "metadata": {
        "id": "yxnAU_gjOqVo"
      }
    },
    {
      "cell_type": "code",
      "source": [
        "#Complete the code\n",
        "def np_to_xr(array_name, array, lat, lon):\n",
        "    #building the xarrray\n",
        "    da = xr.DataArray(data = array, # Data to be stored\n",
        "\n",
        "                  #set the name of dimensions for the dataArray\n",
        "                  dims = ['lat', 'lon'],\n",
        "\n",
        "                  #Set the dictionary pointing the name dimensions to np arrays\n",
        "                  coords = {'lat':lat,\n",
        "                            'lon':lon},\n",
        "\n",
        "                  name= array_name)\n",
        "    return da"
      ],
      "metadata": {
        "id": "7FCXLhYfPiQD"
      },
      "execution_count": 11,
      "outputs": []
    },
    {
      "cell_type": "markdown",
      "source": [
        "We're now ready to build our data array! Let's iterate through the items and merge our blank dataset with the data arrays we create.\n",
        "\n",
        "### Q5) Build the dataset from the data dictionary\n",
        "\n",
        "*Hint: We'll be using the xarray merge command to put everything together.*"
      ],
      "metadata": {
        "id": "l9xgQaM9Rrv1"
      }
    },
    {
      "cell_type": "code",
      "source": [
        "# The code in the notebook assumes you named your dataset ds. Change it to\n",
        "# whatever you used!\n",
        "\n",
        "# Complete the code\n",
        "for key, item in data_dict.items():\n",
        "    # Let's make use of our np_to_xr function to get the data as a dataArray\n",
        "    da = np_to_xr(key, item, lat, lon)\n",
        "\n",
        "    # Merge the dataSet with the dataArray here!\n",
        "    ds = xr.merge( [ds , da ] )"
      ],
      "metadata": {
        "id": "4pLXUfvLSZKf"
      },
      "execution_count": 28,
      "outputs": []
    },
    {
      "cell_type": "markdown",
      "source": [
        "Congratulations! You should now have a nicely set up xarray dataset. This let's you access a ton of nice features, e.g.:\n",
        "> Data plotting by calling, e.g., `ds.BPT.plot.imshow(cmap='ocean')`\n",
        ">\n",
        "> Find statistical measures of all variables at once! (e.g.: `ds.std()`, `ds.mean()`)"
      ],
      "metadata": {
        "id": "aC1Gq_q7WEWc"
      }
    },
    {
      "cell_type": "code",
      "source": [
        "# Play around with the dataset here if you'd like :)\n",
        "ds.BPT.plot.imshow(cmap='ocean')\n",
        "ds.std()\n",
        "ds.mean()"
      ],
      "metadata": {
        "id": "uag0JpWzaaS-",
        "colab": {
          "base_uri": "https://localhost:8080/",
          "height": 888
        },
        "outputId": "cfd51b9a-4eb0-492d-f706-34710640ee83"
      },
      "execution_count": 29,
      "outputs": [
        {
          "output_type": "execute_result",
          "data": {
            "text/plain": [
              "<xarray.Dataset> Size: 56B\n",
              "Dimensions:    ()\n",
              "Data variables:\n",
              "    noiseMask  float64 8B 1.0\n",
              "    curlTau    float64 8B -1.696e-11\n",
              "    curlB      float64 8B 2.928e-13\n",
              "    curlCori   float64 8B 7.743e-12\n",
              "    BPT        float64 8B 1.02e-11\n",
              "    curlA      float64 8B -1.287e-12\n",
              "    clusters   float64 8B nan"
            ],
            "text/html": [
              "<div><svg style=\"position: absolute; width: 0; height: 0; overflow: hidden\">\n",
              "<defs>\n",
              "<symbol id=\"icon-database\" viewBox=\"0 0 32 32\">\n",
              "<path d=\"M16 0c-8.837 0-16 2.239-16 5v4c0 2.761 7.163 5 16 5s16-2.239 16-5v-4c0-2.761-7.163-5-16-5z\"></path>\n",
              "<path d=\"M16 17c-8.837 0-16-2.239-16-5v6c0 2.761 7.163 5 16 5s16-2.239 16-5v-6c0 2.761-7.163 5-16 5z\"></path>\n",
              "<path d=\"M16 26c-8.837 0-16-2.239-16-5v6c0 2.761 7.163 5 16 5s16-2.239 16-5v-6c0 2.761-7.163 5-16 5z\"></path>\n",
              "</symbol>\n",
              "<symbol id=\"icon-file-text2\" viewBox=\"0 0 32 32\">\n",
              "<path d=\"M28.681 7.159c-0.694-0.947-1.662-2.053-2.724-3.116s-2.169-2.030-3.116-2.724c-1.612-1.182-2.393-1.319-2.841-1.319h-15.5c-1.378 0-2.5 1.121-2.5 2.5v27c0 1.378 1.122 2.5 2.5 2.5h23c1.378 0 2.5-1.122 2.5-2.5v-19.5c0-0.448-0.137-1.23-1.319-2.841zM24.543 5.457c0.959 0.959 1.712 1.825 2.268 2.543h-4.811v-4.811c0.718 0.556 1.584 1.309 2.543 2.268zM28 29.5c0 0.271-0.229 0.5-0.5 0.5h-23c-0.271 0-0.5-0.229-0.5-0.5v-27c0-0.271 0.229-0.5 0.5-0.5 0 0 15.499-0 15.5 0v7c0 0.552 0.448 1 1 1h7v19.5z\"></path>\n",
              "<path d=\"M23 26h-14c-0.552 0-1-0.448-1-1s0.448-1 1-1h14c0.552 0 1 0.448 1 1s-0.448 1-1 1z\"></path>\n",
              "<path d=\"M23 22h-14c-0.552 0-1-0.448-1-1s0.448-1 1-1h14c0.552 0 1 0.448 1 1s-0.448 1-1 1z\"></path>\n",
              "<path d=\"M23 18h-14c-0.552 0-1-0.448-1-1s0.448-1 1-1h14c0.552 0 1 0.448 1 1s-0.448 1-1 1z\"></path>\n",
              "</symbol>\n",
              "</defs>\n",
              "</svg>\n",
              "<style>/* CSS stylesheet for displaying xarray objects in jupyterlab.\n",
              " *\n",
              " */\n",
              "\n",
              ":root {\n",
              "  --xr-font-color0: var(--jp-content-font-color0, rgba(0, 0, 0, 1));\n",
              "  --xr-font-color2: var(--jp-content-font-color2, rgba(0, 0, 0, 0.54));\n",
              "  --xr-font-color3: var(--jp-content-font-color3, rgba(0, 0, 0, 0.38));\n",
              "  --xr-border-color: var(--jp-border-color2, #e0e0e0);\n",
              "  --xr-disabled-color: var(--jp-layout-color3, #bdbdbd);\n",
              "  --xr-background-color: var(--jp-layout-color0, white);\n",
              "  --xr-background-color-row-even: var(--jp-layout-color1, white);\n",
              "  --xr-background-color-row-odd: var(--jp-layout-color2, #eeeeee);\n",
              "}\n",
              "\n",
              "html[theme=dark],\n",
              "html[data-theme=dark],\n",
              "body[data-theme=dark],\n",
              "body.vscode-dark {\n",
              "  --xr-font-color0: rgba(255, 255, 255, 1);\n",
              "  --xr-font-color2: rgba(255, 255, 255, 0.54);\n",
              "  --xr-font-color3: rgba(255, 255, 255, 0.38);\n",
              "  --xr-border-color: #1F1F1F;\n",
              "  --xr-disabled-color: #515151;\n",
              "  --xr-background-color: #111111;\n",
              "  --xr-background-color-row-even: #111111;\n",
              "  --xr-background-color-row-odd: #313131;\n",
              "}\n",
              "\n",
              ".xr-wrap {\n",
              "  display: block !important;\n",
              "  min-width: 300px;\n",
              "  max-width: 700px;\n",
              "}\n",
              "\n",
              ".xr-text-repr-fallback {\n",
              "  /* fallback to plain text repr when CSS is not injected (untrusted notebook) */\n",
              "  display: none;\n",
              "}\n",
              "\n",
              ".xr-header {\n",
              "  padding-top: 6px;\n",
              "  padding-bottom: 6px;\n",
              "  margin-bottom: 4px;\n",
              "  border-bottom: solid 1px var(--xr-border-color);\n",
              "}\n",
              "\n",
              ".xr-header > div,\n",
              ".xr-header > ul {\n",
              "  display: inline;\n",
              "  margin-top: 0;\n",
              "  margin-bottom: 0;\n",
              "}\n",
              "\n",
              ".xr-obj-type,\n",
              ".xr-array-name {\n",
              "  margin-left: 2px;\n",
              "  margin-right: 10px;\n",
              "}\n",
              "\n",
              ".xr-obj-type {\n",
              "  color: var(--xr-font-color2);\n",
              "}\n",
              "\n",
              ".xr-sections {\n",
              "  padding-left: 0 !important;\n",
              "  display: grid;\n",
              "  grid-template-columns: 150px auto auto 1fr 0 20px 0 20px;\n",
              "}\n",
              "\n",
              ".xr-section-item {\n",
              "  display: contents;\n",
              "}\n",
              "\n",
              ".xr-section-item input {\n",
              "  display: inline-block;\n",
              "  opacity: 0;\n",
              "}\n",
              "\n",
              ".xr-section-item input + label {\n",
              "  color: var(--xr-disabled-color);\n",
              "}\n",
              "\n",
              ".xr-section-item input:enabled + label {\n",
              "  cursor: pointer;\n",
              "  color: var(--xr-font-color2);\n",
              "}\n",
              "\n",
              ".xr-section-item input:focus + label {\n",
              "  border: 2px solid var(--xr-font-color0);\n",
              "}\n",
              "\n",
              ".xr-section-item input:enabled + label:hover {\n",
              "  color: var(--xr-font-color0);\n",
              "}\n",
              "\n",
              ".xr-section-summary {\n",
              "  grid-column: 1;\n",
              "  color: var(--xr-font-color2);\n",
              "  font-weight: 500;\n",
              "}\n",
              "\n",
              ".xr-section-summary > span {\n",
              "  display: inline-block;\n",
              "  padding-left: 0.5em;\n",
              "}\n",
              "\n",
              ".xr-section-summary-in:disabled + label {\n",
              "  color: var(--xr-font-color2);\n",
              "}\n",
              "\n",
              ".xr-section-summary-in + label:before {\n",
              "  display: inline-block;\n",
              "  content: '►';\n",
              "  font-size: 11px;\n",
              "  width: 15px;\n",
              "  text-align: center;\n",
              "}\n",
              "\n",
              ".xr-section-summary-in:disabled + label:before {\n",
              "  color: var(--xr-disabled-color);\n",
              "}\n",
              "\n",
              ".xr-section-summary-in:checked + label:before {\n",
              "  content: '▼';\n",
              "}\n",
              "\n",
              ".xr-section-summary-in:checked + label > span {\n",
              "  display: none;\n",
              "}\n",
              "\n",
              ".xr-section-summary,\n",
              ".xr-section-inline-details {\n",
              "  padding-top: 4px;\n",
              "  padding-bottom: 4px;\n",
              "}\n",
              "\n",
              ".xr-section-inline-details {\n",
              "  grid-column: 2 / -1;\n",
              "}\n",
              "\n",
              ".xr-section-details {\n",
              "  display: none;\n",
              "  grid-column: 1 / -1;\n",
              "  margin-bottom: 5px;\n",
              "}\n",
              "\n",
              ".xr-section-summary-in:checked ~ .xr-section-details {\n",
              "  display: contents;\n",
              "}\n",
              "\n",
              ".xr-array-wrap {\n",
              "  grid-column: 1 / -1;\n",
              "  display: grid;\n",
              "  grid-template-columns: 20px auto;\n",
              "}\n",
              "\n",
              ".xr-array-wrap > label {\n",
              "  grid-column: 1;\n",
              "  vertical-align: top;\n",
              "}\n",
              "\n",
              ".xr-preview {\n",
              "  color: var(--xr-font-color3);\n",
              "}\n",
              "\n",
              ".xr-array-preview,\n",
              ".xr-array-data {\n",
              "  padding: 0 5px !important;\n",
              "  grid-column: 2;\n",
              "}\n",
              "\n",
              ".xr-array-data,\n",
              ".xr-array-in:checked ~ .xr-array-preview {\n",
              "  display: none;\n",
              "}\n",
              "\n",
              ".xr-array-in:checked ~ .xr-array-data,\n",
              ".xr-array-preview {\n",
              "  display: inline-block;\n",
              "}\n",
              "\n",
              ".xr-dim-list {\n",
              "  display: inline-block !important;\n",
              "  list-style: none;\n",
              "  padding: 0 !important;\n",
              "  margin: 0;\n",
              "}\n",
              "\n",
              ".xr-dim-list li {\n",
              "  display: inline-block;\n",
              "  padding: 0;\n",
              "  margin: 0;\n",
              "}\n",
              "\n",
              ".xr-dim-list:before {\n",
              "  content: '(';\n",
              "}\n",
              "\n",
              ".xr-dim-list:after {\n",
              "  content: ')';\n",
              "}\n",
              "\n",
              ".xr-dim-list li:not(:last-child):after {\n",
              "  content: ',';\n",
              "  padding-right: 5px;\n",
              "}\n",
              "\n",
              ".xr-has-index {\n",
              "  font-weight: bold;\n",
              "}\n",
              "\n",
              ".xr-var-list,\n",
              ".xr-var-item {\n",
              "  display: contents;\n",
              "}\n",
              "\n",
              ".xr-var-item > div,\n",
              ".xr-var-item label,\n",
              ".xr-var-item > .xr-var-name span {\n",
              "  background-color: var(--xr-background-color-row-even);\n",
              "  margin-bottom: 0;\n",
              "}\n",
              "\n",
              ".xr-var-item > .xr-var-name:hover span {\n",
              "  padding-right: 5px;\n",
              "}\n",
              "\n",
              ".xr-var-list > li:nth-child(odd) > div,\n",
              ".xr-var-list > li:nth-child(odd) > label,\n",
              ".xr-var-list > li:nth-child(odd) > .xr-var-name span {\n",
              "  background-color: var(--xr-background-color-row-odd);\n",
              "}\n",
              "\n",
              ".xr-var-name {\n",
              "  grid-column: 1;\n",
              "}\n",
              "\n",
              ".xr-var-dims {\n",
              "  grid-column: 2;\n",
              "}\n",
              "\n",
              ".xr-var-dtype {\n",
              "  grid-column: 3;\n",
              "  text-align: right;\n",
              "  color: var(--xr-font-color2);\n",
              "}\n",
              "\n",
              ".xr-var-preview {\n",
              "  grid-column: 4;\n",
              "}\n",
              "\n",
              ".xr-index-preview {\n",
              "  grid-column: 2 / 5;\n",
              "  color: var(--xr-font-color2);\n",
              "}\n",
              "\n",
              ".xr-var-name,\n",
              ".xr-var-dims,\n",
              ".xr-var-dtype,\n",
              ".xr-preview,\n",
              ".xr-attrs dt {\n",
              "  white-space: nowrap;\n",
              "  overflow: hidden;\n",
              "  text-overflow: ellipsis;\n",
              "  padding-right: 10px;\n",
              "}\n",
              "\n",
              ".xr-var-name:hover,\n",
              ".xr-var-dims:hover,\n",
              ".xr-var-dtype:hover,\n",
              ".xr-attrs dt:hover {\n",
              "  overflow: visible;\n",
              "  width: auto;\n",
              "  z-index: 1;\n",
              "}\n",
              "\n",
              ".xr-var-attrs,\n",
              ".xr-var-data,\n",
              ".xr-index-data {\n",
              "  display: none;\n",
              "  background-color: var(--xr-background-color) !important;\n",
              "  padding-bottom: 5px !important;\n",
              "}\n",
              "\n",
              ".xr-var-attrs-in:checked ~ .xr-var-attrs,\n",
              ".xr-var-data-in:checked ~ .xr-var-data,\n",
              ".xr-index-data-in:checked ~ .xr-index-data {\n",
              "  display: block;\n",
              "}\n",
              "\n",
              ".xr-var-data > table {\n",
              "  float: right;\n",
              "}\n",
              "\n",
              ".xr-var-name span,\n",
              ".xr-var-data,\n",
              ".xr-index-name div,\n",
              ".xr-index-data,\n",
              ".xr-attrs {\n",
              "  padding-left: 25px !important;\n",
              "}\n",
              "\n",
              ".xr-attrs,\n",
              ".xr-var-attrs,\n",
              ".xr-var-data,\n",
              ".xr-index-data {\n",
              "  grid-column: 1 / -1;\n",
              "}\n",
              "\n",
              "dl.xr-attrs {\n",
              "  padding: 0;\n",
              "  margin: 0;\n",
              "  display: grid;\n",
              "  grid-template-columns: 125px auto;\n",
              "}\n",
              "\n",
              ".xr-attrs dt,\n",
              ".xr-attrs dd {\n",
              "  padding: 0;\n",
              "  margin: 0;\n",
              "  float: left;\n",
              "  padding-right: 10px;\n",
              "  width: auto;\n",
              "}\n",
              "\n",
              ".xr-attrs dt {\n",
              "  font-weight: normal;\n",
              "  grid-column: 1;\n",
              "}\n",
              "\n",
              ".xr-attrs dt:hover span {\n",
              "  display: inline-block;\n",
              "  background: var(--xr-background-color);\n",
              "  padding-right: 10px;\n",
              "}\n",
              "\n",
              ".xr-attrs dd {\n",
              "  grid-column: 2;\n",
              "  white-space: pre-wrap;\n",
              "  word-break: break-all;\n",
              "}\n",
              "\n",
              ".xr-icon-database,\n",
              ".xr-icon-file-text2,\n",
              ".xr-no-icon {\n",
              "  display: inline-block;\n",
              "  vertical-align: middle;\n",
              "  width: 1em;\n",
              "  height: 1.5em !important;\n",
              "  stroke-width: 0;\n",
              "  stroke: currentColor;\n",
              "  fill: currentColor;\n",
              "}\n",
              "</style><pre class='xr-text-repr-fallback'>&lt;xarray.Dataset&gt; Size: 56B\n",
              "Dimensions:    ()\n",
              "Data variables:\n",
              "    noiseMask  float64 8B 1.0\n",
              "    curlTau    float64 8B -1.696e-11\n",
              "    curlB      float64 8B 2.928e-13\n",
              "    curlCori   float64 8B 7.743e-12\n",
              "    BPT        float64 8B 1.02e-11\n",
              "    curlA      float64 8B -1.287e-12\n",
              "    clusters   float64 8B nan</pre><div class='xr-wrap' style='display:none'><div class='xr-header'><div class='xr-obj-type'>xarray.Dataset</div></div><ul class='xr-sections'><li class='xr-section-item'><input id='section-ff9b2f3e-d774-44ee-a5d5-72e3fd032c39' class='xr-section-summary-in' type='checkbox' disabled ><label for='section-ff9b2f3e-d774-44ee-a5d5-72e3fd032c39' class='xr-section-summary'  title='Expand/collapse section'>Dimensions:</label><div class='xr-section-inline-details'></div><div class='xr-section-details'></div></li><li class='xr-section-item'><input id='section-a680c02f-58f1-4f7f-8696-49d3146f1052' class='xr-section-summary-in' type='checkbox' disabled ><label for='section-a680c02f-58f1-4f7f-8696-49d3146f1052' class='xr-section-summary'  title='Expand/collapse section'>Coordinates: <span>(0)</span></label><div class='xr-section-inline-details'></div><div class='xr-section-details'><ul class='xr-var-list'></ul></div></li><li class='xr-section-item'><input id='section-d663d706-3a82-48c2-9d4d-5efd9bb09d8b' class='xr-section-summary-in' type='checkbox'  checked><label for='section-d663d706-3a82-48c2-9d4d-5efd9bb09d8b' class='xr-section-summary' >Data variables: <span>(7)</span></label><div class='xr-section-inline-details'></div><div class='xr-section-details'><ul class='xr-var-list'><li class='xr-var-item'><div class='xr-var-name'><span>noiseMask</span></div><div class='xr-var-dims'>()</div><div class='xr-var-dtype'>float64</div><div class='xr-var-preview xr-preview'>1.0</div><input id='attrs-b32921c9-b71f-4012-9840-788cff92c5dc' class='xr-var-attrs-in' type='checkbox' disabled><label for='attrs-b32921c9-b71f-4012-9840-788cff92c5dc' title='Show/Hide attributes'><svg class='icon xr-icon-file-text2'><use xlink:href='#icon-file-text2'></use></svg></label><input id='data-52593120-a563-4271-b1bf-20cad36356fa' class='xr-var-data-in' type='checkbox'><label for='data-52593120-a563-4271-b1bf-20cad36356fa' title='Show/Hide data repr'><svg class='icon xr-icon-database'><use xlink:href='#icon-database'></use></svg></label><div class='xr-var-attrs'><dl class='xr-attrs'></dl></div><div class='xr-var-data'><pre>array(1.)</pre></div></li><li class='xr-var-item'><div class='xr-var-name'><span>curlTau</span></div><div class='xr-var-dims'>()</div><div class='xr-var-dtype'>float64</div><div class='xr-var-preview xr-preview'>-1.696e-11</div><input id='attrs-933d0c94-7239-4d86-956a-fffaf0eed7f5' class='xr-var-attrs-in' type='checkbox' disabled><label for='attrs-933d0c94-7239-4d86-956a-fffaf0eed7f5' title='Show/Hide attributes'><svg class='icon xr-icon-file-text2'><use xlink:href='#icon-file-text2'></use></svg></label><input id='data-6133a01c-102b-4070-bee2-afddea47759f' class='xr-var-data-in' type='checkbox'><label for='data-6133a01c-102b-4070-bee2-afddea47759f' title='Show/Hide data repr'><svg class='icon xr-icon-database'><use xlink:href='#icon-database'></use></svg></label><div class='xr-var-attrs'><dl class='xr-attrs'></dl></div><div class='xr-var-data'><pre>array(-1.69617275e-11)</pre></div></li><li class='xr-var-item'><div class='xr-var-name'><span>curlB</span></div><div class='xr-var-dims'>()</div><div class='xr-var-dtype'>float64</div><div class='xr-var-preview xr-preview'>2.928e-13</div><input id='attrs-34a3d308-e535-4050-aa27-dc20b8b78046' class='xr-var-attrs-in' type='checkbox' disabled><label for='attrs-34a3d308-e535-4050-aa27-dc20b8b78046' title='Show/Hide attributes'><svg class='icon xr-icon-file-text2'><use xlink:href='#icon-file-text2'></use></svg></label><input id='data-009285c7-b974-468c-8c2d-7801eac59715' class='xr-var-data-in' type='checkbox'><label for='data-009285c7-b974-468c-8c2d-7801eac59715' title='Show/Hide data repr'><svg class='icon xr-icon-database'><use xlink:href='#icon-database'></use></svg></label><div class='xr-var-attrs'><dl class='xr-attrs'></dl></div><div class='xr-var-data'><pre>array(2.92802287e-13)</pre></div></li><li class='xr-var-item'><div class='xr-var-name'><span>curlCori</span></div><div class='xr-var-dims'>()</div><div class='xr-var-dtype'>float64</div><div class='xr-var-preview xr-preview'>7.743e-12</div><input id='attrs-61835749-2c3a-4a2f-9496-1f46db076ea8' class='xr-var-attrs-in' type='checkbox' disabled><label for='attrs-61835749-2c3a-4a2f-9496-1f46db076ea8' title='Show/Hide attributes'><svg class='icon xr-icon-file-text2'><use xlink:href='#icon-file-text2'></use></svg></label><input id='data-cce9ec93-d69d-4903-8811-d687fbf8f3d4' class='xr-var-data-in' type='checkbox'><label for='data-cce9ec93-d69d-4903-8811-d687fbf8f3d4' title='Show/Hide data repr'><svg class='icon xr-icon-database'><use xlink:href='#icon-database'></use></svg></label><div class='xr-var-attrs'><dl class='xr-attrs'></dl></div><div class='xr-var-data'><pre>array(7.74320585e-12)</pre></div></li><li class='xr-var-item'><div class='xr-var-name'><span>BPT</span></div><div class='xr-var-dims'>()</div><div class='xr-var-dtype'>float64</div><div class='xr-var-preview xr-preview'>1.02e-11</div><input id='attrs-348e83fe-881b-4174-bfbf-ee0ccfb90f15' class='xr-var-attrs-in' type='checkbox' disabled><label for='attrs-348e83fe-881b-4174-bfbf-ee0ccfb90f15' title='Show/Hide attributes'><svg class='icon xr-icon-file-text2'><use xlink:href='#icon-file-text2'></use></svg></label><input id='data-7d3a5b4e-f002-4cdd-be85-dea8cd7a5ad8' class='xr-var-data-in' type='checkbox'><label for='data-7d3a5b4e-f002-4cdd-be85-dea8cd7a5ad8' title='Show/Hide data repr'><svg class='icon xr-icon-database'><use xlink:href='#icon-database'></use></svg></label><div class='xr-var-attrs'><dl class='xr-attrs'></dl></div><div class='xr-var-data'><pre>array(1.02047112e-11)</pre></div></li><li class='xr-var-item'><div class='xr-var-name'><span>curlA</span></div><div class='xr-var-dims'>()</div><div class='xr-var-dtype'>float64</div><div class='xr-var-preview xr-preview'>-1.287e-12</div><input id='attrs-b6a62632-fce2-4635-901e-f74f861c4ec1' class='xr-var-attrs-in' type='checkbox' disabled><label for='attrs-b6a62632-fce2-4635-901e-f74f861c4ec1' title='Show/Hide attributes'><svg class='icon xr-icon-file-text2'><use xlink:href='#icon-file-text2'></use></svg></label><input id='data-16504d86-c929-4f1d-8b0c-0bbe22c58582' class='xr-var-data-in' type='checkbox'><label for='data-16504d86-c929-4f1d-8b0c-0bbe22c58582' title='Show/Hide data repr'><svg class='icon xr-icon-database'><use xlink:href='#icon-database'></use></svg></label><div class='xr-var-attrs'><dl class='xr-attrs'></dl></div><div class='xr-var-data'><pre>array(-1.28661102e-12)</pre></div></li><li class='xr-var-item'><div class='xr-var-name'><span>clusters</span></div><div class='xr-var-dims'>()</div><div class='xr-var-dtype'>float64</div><div class='xr-var-preview xr-preview'>nan</div><input id='attrs-84cf3c62-dea2-414f-8a6e-9487a599c9a1' class='xr-var-attrs-in' type='checkbox' disabled><label for='attrs-84cf3c62-dea2-414f-8a6e-9487a599c9a1' title='Show/Hide attributes'><svg class='icon xr-icon-file-text2'><use xlink:href='#icon-file-text2'></use></svg></label><input id='data-ced15b23-5e2a-4e59-9fb1-85b0af7e7daf' class='xr-var-data-in' type='checkbox'><label for='data-ced15b23-5e2a-4e59-9fb1-85b0af7e7daf' title='Show/Hide data repr'><svg class='icon xr-icon-database'><use xlink:href='#icon-database'></use></svg></label><div class='xr-var-attrs'><dl class='xr-attrs'></dl></div><div class='xr-var-data'><pre>array(nan)</pre></div></li></ul></div></li><li class='xr-section-item'><input id='section-3cf31df2-ce5e-45e5-bf06-460ba47f0d99' class='xr-section-summary-in' type='checkbox' disabled ><label for='section-3cf31df2-ce5e-45e5-bf06-460ba47f0d99' class='xr-section-summary'  title='Expand/collapse section'>Indexes: <span>(0)</span></label><div class='xr-section-inline-details'></div><div class='xr-section-details'><ul class='xr-var-list'></ul></div></li><li class='xr-section-item'><input id='section-1bc91d25-352e-44f1-99d2-708f32d764ce' class='xr-section-summary-in' type='checkbox' disabled ><label for='section-1bc91d25-352e-44f1-99d2-708f32d764ce' class='xr-section-summary'  title='Expand/collapse section'>Attributes: <span>(0)</span></label><div class='xr-section-inline-details'></div><div class='xr-section-details'><dl class='xr-attrs'></dl></div></li></ul></div></div>"
            ]
          },
          "metadata": {},
          "execution_count": 29
        },
        {
          "output_type": "display_data",
          "data": {
            "text/plain": [
              "<Figure size 640x480 with 2 Axes>"
            ],
            "image/png": "[encoded data removed]"
          },
          "metadata": {}
        }
      ]
    },
    {
      "cell_type": "markdown",
      "source": [
        "Now we want to find clusters of data considering each grid point as a datapoint with 5 dimensional data. However, we went through a lot of work to get the data nicely associated with a lat and lon - do we really want to undo that?\n",
        "\n",
        "Luckily, xarray developers foresaw the need to group dimensions together. Let's create a 'flat' version of our dataset using the [`stack`](https://xarray.pydata.org/en/stable/generated/xarray.DataArray.stack.html) method. Let's make a flattened version of our dataset.\n",
        "\n",
        "### Q6) Store a flattened version of our dataset\n",
        "\n",
        "*Hint 1: You'll need to pass a dictionary with the 'new' stacked dimension name as the key and the 'flattened' dimensions as the values.*\n",
        "\n",
        "*Hint 2: xarrays have a ['.values' attribute](https://xarray.pydata.org/en/stable/generated/xarray.DataArray.values.html) that return their data as a numpy array.*"
      ],
      "metadata": {
        "id": "vEfuD2O8aZ4w"
      }
    },
    {
      "cell_type": "code",
      "source": [
        "# Complete the code\n",
        "# Let's store the stacked version of our dataset\n",
        "stacked = ds.stack({'stacked_dim': ['lat', 'lon']})"
      ],
      "metadata": {
        "id": "G4e2NDipb0Tr"
      },
      "execution_count": 30,
      "outputs": []
    },
    {
      "cell_type": "code",
      "source": [
        "# And verify the shape of our data\n",
        "print(stacked.to_array().values.shape)"
      ],
      "metadata": {
        "id": "UQt4-fFACtUm",
        "colab": {
          "base_uri": "https://localhost:8080/"
        },
        "outputId": "2c3ecd23-a0c4-47c0-f7ce-edbf79ff3cf2"
      },
      "execution_count": 31,
      "outputs": [
        {
          "output_type": "stream",
          "name": "stdout",
          "text": [
            "(7, 259200)\n"
          ]
        }
      ]
    },
    {
      "cell_type": "markdown",
      "source": [
        "So far we've ignored an important point - we're supposed to have 5 variables, not 6! As you may have guessed, `noiseMask` helps us throw away data we dont want (e.g., from land mass or bad pixels).\n",
        "\n",
        "We're now going to clean up the stacked dataset using the noise mask. Relax and read through the code, since there won't be a question in this part :)"
      ],
      "metadata": {
        "id": "MZGPnmooffKy"
      }
    },
    {
      "cell_type": "code",
      "source": [
        "# Let's redefine stacked as all the points where noiseMask = 1, since noisemask\n",
        "# is binary data.\n",
        "\n",
        "print(f'Dataset shape before processing: {stacked.to_array().values.shape}')\n",
        "\n",
        "print(\"Let's do some data cleaning!\")\n",
        "print(f'Points before cleaning: {len(stacked.BPT)}')\n",
        "stacked = stacked.where(stacked.noiseMask==1, drop=True)\n",
        "print(f'Points after cleaning: {len(stacked.BPT)}')"
      ],
      "metadata": {
        "id": "sbXscaE_fcOj",
        "colab": {
          "base_uri": "https://localhost:8080/"
        },
        "outputId": "845f828a-83e2-4d42-8789-476ba7bd6ee8"
      },
      "execution_count": 32,
      "outputs": [
        {
          "output_type": "stream",
          "name": "stdout",
          "text": [
            "Dataset shape before processing: (7, 259200)\n",
            "Let's do some data cleaning!\n",
            "Points before cleaning: 259200\n",
            "Points after cleaning: 149714\n"
          ]
        }
      ]
    },
    {
      "cell_type": "code",
      "source": [
        "# We also no longer need the noiseMask variable, so we can just drop it.\n",
        "\n",
        "print('And drop the noisemask variable...')\n",
        "print(f'Before dropping: {stacked.to_array().values.shape}')\n",
        "stacked = stacked.drop('noiseMask')\n",
        "print(f'Dataset shape after processing: {stacked.to_array().values.shape}')"
      ],
      "metadata": {
        "id": "crX5HoD3C3Ls",
        "colab": {
          "base_uri": "https://localhost:8080/"
        },
        "outputId": "046e841a-dd8f-4cab-c997-47ba6b74fe2d"
      },
      "execution_count": 33,
      "outputs": [
        {
          "output_type": "stream",
          "name": "stdout",
          "text": [
            "And drop the noisemask variable...\n",
            "Before dropping: (7, 149714)\n",
            "Dataset shape after processing: (6, 149714)\n"
          ]
        },
        {
          "output_type": "stream",
          "name": "stderr",
          "text": [
            "<ipython-input-33-53af3cff5b07>:5: DeprecationWarning: dropping variables using `drop` is deprecated; use drop_vars.\n",
            "  stacked = stacked.drop('noiseMask')\n"
          ]
        }
      ]
    },
    {
      "cell_type": "markdown",
      "source": [
        "We now have several thousand points which we want to divide into clusters using the kmeans clustering algorithm (you can check out the documentation for scikit's implementation of kmeans [here](https://scikit-learn.org/stable/modules/generated/sklearn.cluster.KMeans.html)).\n",
        "\n",
        "You'll note that the algorithm expects the input data `X` to be fed as `(n_samples, n_features)`. This is the opposite of what we have! Let's go ahead and make a copy to a numpy array has the axes in the right order.\n",
        "\n",
        "You'll need xarray's [`.to_array()`](https://xarray.pydata.org/en/stable/generated/xarray.Dataset.to_array.html) method and [`.values`](https://xarray.pydata.org/en/stable/generated/xarray.DataArray.values.html) parameter, as well as numpy's [`.moveaxis`](https://numpy.org/doc/stable/reference/generated/numpy.moveaxis.html) method.\n",
        "\n",
        "### Q7) Load the datapoints into a numpy array following the convention where the 0th axis corresponds to the samples and the 1st axis corresponds to the features."
      ],
      "metadata": {
        "id": "5Pol90vsU_wv"
      }
    },
    {
      "cell_type": "code",
      "source": [
        "# Complete the code\n",
        "input_data = np.moveaxis(stacked.to_array().values,  # data to reshape. Note that cluster is dropped since not needed for training\n",
        "                         0,          # source axis as integer,\n",
        "                         -1)          # destination axis as integer"
      ],
      "metadata": {
        "id": "uu0AVVkPeTzC"
      },
      "execution_count": 64,
      "outputs": []
    },
    {
      "cell_type": "code",
      "source": [
        "# Does the input data look the way it's supposed to? Print the shape.\n",
        "# I am doing this code in order to remove my NaN value by a mean value in my input_data in order be able to fit later on\n",
        "from sklearn.impute import SimpleImputer\n",
        "imputer = SimpleImputer(strategy='mean')\n",
        "input_data = imputer.fit_transform(input_data)\n",
        "print(input_data.shape)"
      ],
      "metadata": {
        "id": "Vi9GZ-XsC6Nd",
        "colab": {
          "base_uri": "https://localhost:8080/"
        },
        "outputId": "ba89b3e0-a693-4c77-c33f-c9ec750c993f"
      },
      "execution_count": 65,
      "outputs": [
        {
          "output_type": "stream",
          "name": "stdout",
          "text": [
            "(149714, 6)\n"
          ]
        }
      ]
    },
    {
      "cell_type": "markdown",
      "source": [
        "## Kmeans clustering"
      ],
      "metadata": {
        "id": "Sd7dfacgRCuL"
      }
    },
    {
      "cell_type": "markdown",
      "source": [
        "In previous classes we discussed the importance of the scaling the data before implementing our algorithms. Now that our data is all but ready to be fed into an algorithm, let's make sure that it's been scaled.\n",
        "\n",
        "### Q8) Scale the input data\n",
        "\n",
        "*Hint 1: Import the [`StandardScaler`](https://scikit-learn.org/stable/modules/generated/sklearn.preprocessing.StandardScaler.html) class from scikit and instantiate it*\n",
        "\n",
        "*Hint 2: Update the input array to the one returned by the [`.fit_transform(X)`](https://scikit-learn.org/stable/modules/generated/sklearn.preprocessing.StandardScaler.html#sklearn.preprocessing.StandardScaler.fit_transform) method*"
      ],
      "metadata": {
        "id": "AoZSkMieiL9O"
      }
    },
    {
      "cell_type": "code",
      "source": [
        "#Write your scaling code here\n",
        "from sklearn.preprocessing import StandardScaler\n",
        "scaler = StandardScaler()\n",
        "input_data = scaler.fit_transform(input_data)"
      ],
      "metadata": {
        "id": "D2sZPWf1ignO"
      },
      "execution_count": 66,
      "outputs": []
    },
    {
      "cell_type": "markdown",
      "source": [
        "Now we're finally ready to train our algorithm! Let's load up the kmeans model and find clusters in our data.\n",
        "\n",
        "### Q9) Instantiate the kmeans clustering algorithm, and then fit it using 50 clusters, trying out 10 different initial centroids.\n",
        "\n",
        "*Hint 1: `sklearn.cluster` was imported as `cluser` during the notebook setup! [Here is the scikit `KMeans` documentation](https://scikit-learn.org/stable/modules/generated/sklearn.cluster.KMeans.html).*\n",
        "\n",
        "*Hint 2: Use the `fit_predict` method to organize the data into clusters*\n",
        "\n",
        "*Warning! : Fitting the data may take some time (under a minute during the testing of the notebook)"
      ],
      "metadata": {
        "id": "_z3e6dU8rInv"
      }
    },
    {
      "cell_type": "code",
      "source": [
        "# Complete the code\n",
        "kmeans = cluster.KMeans(n_clusters =50,  # Number of clusters\n",
        "                        random_state =42, # setting a random state\n",
        "                        n_init =10, # Number of initial centroid states to try\n",
        "                       verbose = 1)   # Verbosity so we know things are working"
      ],
      "metadata": {
        "id": "DtYyiksRrHPm"
      },
      "execution_count": 67,
      "outputs": []
    },
    {
      "cell_type": "code",
      "source": [
        "cluster_labels = kmeans.fit_predict(input_data) # Feed in out scaled input data!"
      ],
      "metadata": {
        "id": "ohuw1WFiC8kS",
        "colab": {
          "base_uri": "https://localhost:8080/"
        },
        "collapsed": true,
        "outputId": "8491b52e-3b28-41af-d4b6-db94f2e66f30"
      },
      "execution_count": 68,
      "outputs": [
        {
          "output_type": "stream",
          "name": "stdout",
          "text": [
            "Initialization complete\n",
            "Iteration 0, inertia 190327.35427875395.\n",
            "Iteration 1, inertia 167965.81438330025.\n",
            "Iteration 2, inertia 162522.81765767405.\n",
            "Iteration 3, inertia 159403.48537793904.\n",
            "Iteration 4, inertia 156938.19820765383.\n",
            "Iteration 5, inertia 154880.94373359904.\n",
            "Iteration 6, inertia 153230.18943151465.\n",
            "Iteration 7, inertia 152180.9421394101.\n",
            "Iteration 8, inertia 151535.22837400585.\n",
            "Iteration 9, inertia 150959.36249971148.\n",
            "Iteration 10, inertia 150569.24598999778.\n",
            "Iteration 11, inertia 150306.62124584033.\n",
            "Iteration 12, inertia 150148.35160060614.\n",
            "Iteration 13, inertia 150058.04693191455.\n",
            "Iteration 14, inertia 149954.35255708147.\n",
            "Iteration 15, inertia 149850.77474099223.\n",
            "Iteration 16, inertia 149682.43634476417.\n",
            "Iteration 17, inertia 149490.80719064167.\n",
            "Iteration 18, inertia 149310.84654710875.\n",
            "Iteration 19, inertia 149157.0379278269.\n",
            "Iteration 20, inertia 149030.41653180393.\n",
            "Iteration 21, inertia 148896.24280591068.\n",
            "Iteration 22, inertia 148779.2593593423.\n",
            "Iteration 23, inertia 148689.6622389468.\n",
            "Iteration 24, inertia 148583.88960194564.\n",
            "Iteration 25, inertia 148499.8305319355.\n",
            "Iteration 26, inertia 148448.97453446532.\n",
            "Iteration 27, inertia 148360.89814225453.\n",
            "Iteration 28, inertia 148305.59309621342.\n",
            "Iteration 29, inertia 148263.21371983638.\n",
            "Iteration 30, inertia 148262.7094497944.\n",
            "Iteration 31, inertia 148262.39320767068.\n",
            "Iteration 32, inertia 148261.6272805908.\n",
            "Iteration 33, inertia 148261.04657839425.\n",
            "Iteration 34, inertia 148259.94094320125.\n",
            "Iteration 35, inertia 148259.398376149.\n",
            "Iteration 36, inertia 148259.10533684434.\n",
            "Converged at iteration 36: center shift 3.29404637260655e-05 within tolerance 9.999999999999961e-05.\n",
            "Initialization complete\n",
            "Iteration 0, inertia 198300.86747863182.\n",
            "Iteration 1, inertia 166874.43700040632.\n",
            "Iteration 2, inertia 159224.72121947253.\n",
            "Iteration 3, inertia 155968.48793162202.\n",
            "Iteration 4, inertia 154462.54653990697.\n",
            "Iteration 5, inertia 153796.31943664013.\n",
            "Iteration 6, inertia 153354.6019030939.\n",
            "Iteration 7, inertia 152970.9446923335.\n",
            "Iteration 8, inertia 152687.0265952732.\n",
            "Iteration 9, inertia 152457.6568900949.\n",
            "Iteration 10, inertia 152198.80430447403.\n",
            "Iteration 11, inertia 151978.89970783185.\n",
            "Iteration 12, inertia 151703.68663775496.\n",
            "Iteration 13, inertia 151477.78851594415.\n",
            "Iteration 14, inertia 151275.80133490157.\n",
            "Iteration 15, inertia 151137.54243899687.\n",
            "Iteration 16, inertia 151006.0789552024.\n",
            "Iteration 17, inertia 150836.7834455414.\n",
            "Iteration 18, inertia 150699.5925832774.\n",
            "Iteration 19, inertia 150598.09584611474.\n",
            "Iteration 20, inertia 150510.80078087695.\n",
            "Iteration 21, inertia 150421.3387727397.\n",
            "Iteration 22, inertia 150349.06046561425.\n",
            "Iteration 23, inertia 150309.00428387703.\n",
            "Iteration 24, inertia 150284.19153270498.\n",
            "Iteration 25, inertia 150251.1555058593.\n",
            "Iteration 26, inertia 150230.6823682491.\n",
            "Iteration 27, inertia 150222.05302641552.\n",
            "Iteration 28, inertia 150217.7715618058.\n",
            "Iteration 29, inertia 150209.7718843345.\n",
            "Iteration 30, inertia 150201.6792210691.\n",
            "Iteration 31, inertia 150193.28632979863.\n",
            "Iteration 32, inertia 150176.5391904732.\n",
            "Iteration 33, inertia 150161.17171061458.\n",
            "Iteration 34, inertia 150131.20851636212.\n",
            "Iteration 35, inertia 150107.7506743688.\n",
            "Iteration 36, inertia 150092.17250905576.\n",
            "Iteration 37, inertia 150087.16626830032.\n",
            "Iteration 38, inertia 150083.21657532634.\n",
            "Iteration 39, inertia 150080.14758301017.\n",
            "Iteration 40, inertia 150078.53606471262.\n",
            "Iteration 41, inertia 150077.9576965491.\n",
            "Iteration 42, inertia 150077.47548186017.\n",
            "Iteration 43, inertia 150077.28972953625.\n",
            "Iteration 44, inertia 150077.06920286553.\n",
            "Iteration 45, inertia 150076.9950634171.\n",
            "Converged at iteration 45: center shift 7.124489470065028e-06 within tolerance 9.999999999999961e-05.\n",
            "Initialization complete\n",
            "Iteration 0, inertia 190824.56028751683.\n",
            "Iteration 1, inertia 165637.40701991593.\n",
            "Iteration 2, inertia 160160.7357478414.\n",
            "Iteration 3, inertia 157030.2331326924.\n",
            "Iteration 4, inertia 155499.1007852032.\n",
            "Iteration 5, inertia 154591.29463841795.\n",
            "Iteration 6, inertia 153941.19657645441.\n",
            "Iteration 7, inertia 153443.67822003856.\n",
            "Iteration 8, inertia 153062.43470602104.\n",
            "Iteration 9, inertia 152690.6727122009.\n",
            "Iteration 10, inertia 152427.6721477402.\n",
            "Iteration 11, inertia 152225.02351905778.\n",
            "Iteration 12, inertia 151900.53087818538.\n",
            "Iteration 13, inertia 151531.27277603425.\n",
            "Iteration 14, inertia 151183.4731821221.\n",
            "Iteration 15, inertia 150771.4586598331.\n",
            "Iteration 16, inertia 150384.44999442686.\n",
            "Iteration 17, inertia 150074.33870058748.\n",
            "Iteration 18, inertia 149895.66512897075.\n",
            "Iteration 19, inertia 149796.3030805333.\n",
            "Iteration 20, inertia 149712.0178376708.\n",
            "Iteration 21, inertia 149593.4358574667.\n",
            "Iteration 22, inertia 149437.23245040164.\n",
            "Iteration 23, inertia 149357.8552416764.\n",
            "Iteration 24, inertia 149299.37471907688.\n",
            "Iteration 25, inertia 149239.3374376973.\n",
            "Iteration 26, inertia 149178.73620920285.\n",
            "Iteration 27, inertia 149080.60567322976.\n",
            "Iteration 28, inertia 148955.6318604312.\n",
            "Iteration 29, inertia 148838.53997338546.\n",
            "Iteration 30, inertia 148738.23445593085.\n",
            "Iteration 31, inertia 148639.3968888759.\n",
            "Iteration 32, inertia 148563.8546275563.\n",
            "Iteration 33, inertia 148506.4484193227.\n",
            "Iteration 34, inertia 148442.31523859917.\n",
            "Iteration 35, inertia 148367.67912376815.\n",
            "Iteration 36, inertia 148285.7202940206.\n",
            "Iteration 37, inertia 148210.88354692372.\n",
            "Iteration 38, inertia 148153.2928097721.\n",
            "Iteration 39, inertia 148097.7996266198.\n",
            "Iteration 40, inertia 148067.17756270547.\n",
            "Iteration 41, inertia 148039.8727411517.\n",
            "Iteration 42, inertia 148019.72941525583.\n",
            "Iteration 43, inertia 147999.0822795012.\n",
            "Iteration 44, inertia 147976.86700550406.\n",
            "Iteration 45, inertia 147937.79676963534.\n",
            "Iteration 46, inertia 147904.74513444593.\n",
            "Iteration 47, inertia 147879.65915404414.\n",
            "Iteration 48, inertia 147855.5301780688.\n",
            "Iteration 49, inertia 147841.29917028153.\n",
            "Iteration 50, inertia 147825.71361940712.\n",
            "Iteration 51, inertia 147810.33975736133.\n",
            "Iteration 52, inertia 147801.13669202966.\n",
            "Iteration 53, inertia 147788.26587412535.\n",
            "Iteration 54, inertia 147760.47727716004.\n",
            "Iteration 55, inertia 147737.59964806517.\n",
            "Iteration 56, inertia 147716.09325870962.\n",
            "Iteration 57, inertia 147703.5022340207.\n",
            "Iteration 58, inertia 147692.26312698112.\n",
            "Iteration 59, inertia 147666.8822317999.\n",
            "Iteration 60, inertia 147652.18375688198.\n",
            "Iteration 61, inertia 147639.12508917693.\n",
            "Iteration 62, inertia 147632.0848937573.\n",
            "Iteration 63, inertia 147627.86558207258.\n",
            "Iteration 64, inertia 147627.05862232752.\n",
            "Iteration 65, inertia 147625.61232441917.\n",
            "Iteration 66, inertia 147621.9402823188.\n",
            "Iteration 67, inertia 147615.32008661982.\n",
            "Iteration 68, inertia 147608.93167826856.\n",
            "Iteration 69, inertia 147606.16386405495.\n",
            "Iteration 70, inertia 147606.12321214518.\n",
            "Converged at iteration 70: strict convergence.\n",
            "Initialization complete\n",
            "Iteration 0, inertia 187776.9542290406.\n",
            "Iteration 1, inertia 165615.72485331586.\n",
            "Iteration 2, inertia 160189.57526222794.\n",
            "Iteration 3, inertia 157591.62778709267.\n",
            "Iteration 4, inertia 155703.37137360478.\n",
            "Iteration 5, inertia 154162.67139133048.\n",
            "Iteration 6, inertia 153105.0965908003.\n",
            "Iteration 7, inertia 152227.1039794109.\n",
            "Iteration 8, inertia 151564.12166740233.\n",
            "Iteration 9, inertia 151106.18719278334.\n",
            "Iteration 10, inertia 150847.61227107735.\n",
            "Iteration 11, inertia 150654.79075957707.\n",
            "Iteration 12, inertia 150507.79439542067.\n",
            "Iteration 13, inertia 150386.84250324982.\n",
            "Iteration 14, inertia 150268.42602246822.\n",
            "Iteration 15, inertia 150150.9658687942.\n",
            "Iteration 16, inertia 149983.8882337938.\n",
            "Iteration 17, inertia 149840.50548138176.\n",
            "Iteration 18, inertia 149703.32680793313.\n",
            "Iteration 19, inertia 149571.69906917211.\n",
            "Iteration 20, inertia 149421.1714932979.\n",
            "Iteration 21, inertia 149265.15626259838.\n",
            "Iteration 22, inertia 149027.71082816328.\n",
            "Iteration 23, inertia 148852.32159974048.\n",
            "Iteration 24, inertia 148633.1477681271.\n",
            "Iteration 25, inertia 148486.89223199556.\n",
            "Iteration 26, inertia 148349.94889522524.\n",
            "Iteration 27, inertia 148200.9343257067.\n",
            "Iteration 28, inertia 148108.81561954413.\n",
            "Iteration 29, inertia 148051.7303028322.\n",
            "Iteration 30, inertia 148010.91461002518.\n",
            "Iteration 31, inertia 147980.40343675597.\n",
            "Iteration 32, inertia 147958.33055542308.\n",
            "Iteration 33, inertia 147945.830925986.\n",
            "Iteration 34, inertia 147933.86139034404.\n",
            "Iteration 35, inertia 147928.34300582897.\n",
            "Iteration 36, inertia 147924.63772207277.\n",
            "Iteration 37, inertia 147922.70415155523.\n",
            "Iteration 38, inertia 147920.5363900617.\n",
            "Iteration 39, inertia 147916.51639237968.\n",
            "Iteration 40, inertia 147913.10614844985.\n",
            "Iteration 41, inertia 147910.34092329664.\n",
            "Iteration 42, inertia 147907.4693464757.\n",
            "Iteration 43, inertia 147902.88262874293.\n",
            "Iteration 44, inertia 147900.48654180337.\n",
            "Iteration 45, inertia 147899.8045818289.\n",
            "Iteration 46, inertia 147899.64666476107.\n",
            "Iteration 47, inertia 147899.506741454.\n",
            "Iteration 48, inertia 147899.368636659.\n",
            "Converged at iteration 48: strict convergence.\n",
            "Initialization complete\n",
            "Iteration 0, inertia 192009.1220414034.\n",
            "Iteration 1, inertia 168837.4163916455.\n",
            "Iteration 2, inertia 163402.03765501684.\n",
            "Iteration 3, inertia 160431.897406235.\n",
            "Iteration 4, inertia 158498.21933573167.\n",
            "Iteration 5, inertia 156999.21040891804.\n",
            "Iteration 6, inertia 156112.18599127381.\n",
            "Iteration 7, inertia 155441.89198294087.\n",
            "Iteration 8, inertia 154657.67705446502.\n",
            "Iteration 9, inertia 153646.43838015076.\n",
            "Iteration 10, inertia 152952.84283741674.\n",
            "Iteration 11, inertia 152581.26121132044.\n",
            "Iteration 12, inertia 152381.27233762207.\n",
            "Iteration 13, inertia 152254.111854041.\n",
            "Iteration 14, inertia 152131.11718145912.\n",
            "Iteration 15, inertia 152066.5136463199.\n",
            "Iteration 16, inertia 152025.23514298897.\n",
            "Iteration 17, inertia 151990.4728128941.\n",
            "Iteration 18, inertia 151955.07320750118.\n",
            "Iteration 19, inertia 151921.23676442145.\n",
            "Iteration 20, inertia 151882.5294459576.\n",
            "Iteration 21, inertia 151854.7530038648.\n",
            "Iteration 22, inertia 151824.42984893246.\n",
            "Iteration 23, inertia 151789.01038459732.\n",
            "Iteration 24, inertia 151751.7508718297.\n",
            "Iteration 25, inertia 151705.7044346477.\n",
            "Iteration 26, inertia 151661.9846774523.\n",
            "Iteration 27, inertia 151611.74056654779.\n",
            "Iteration 28, inertia 151543.62674402847.\n",
            "Iteration 29, inertia 151477.72108271805.\n",
            "Iteration 30, inertia 151436.3694004274.\n",
            "Iteration 31, inertia 151407.017426028.\n",
            "Iteration 32, inertia 151378.95157040836.\n",
            "Iteration 33, inertia 151354.35076827955.\n",
            "Iteration 34, inertia 151325.55829785595.\n",
            "Iteration 35, inertia 151304.80048959187.\n",
            "Iteration 36, inertia 151286.71660250935.\n",
            "Iteration 37, inertia 151253.33871426273.\n",
            "Iteration 38, inertia 151219.89872622202.\n",
            "Iteration 39, inertia 151184.70883152136.\n",
            "Iteration 40, inertia 151153.81242819875.\n",
            "Iteration 41, inertia 151108.58974427002.\n",
            "Iteration 42, inertia 151004.75430162516.\n",
            "Iteration 43, inertia 150901.63941394296.\n",
            "Iteration 44, inertia 150875.18946612344.\n",
            "Iteration 45, inertia 150823.06430592298.\n",
            "Iteration 46, inertia 150732.14645689927.\n",
            "Iteration 47, inertia 150605.2689096595.\n",
            "Iteration 48, inertia 150429.17088219125.\n",
            "Iteration 49, inertia 150383.03109201623.\n",
            "Iteration 50, inertia 150342.11028904314.\n",
            "Iteration 51, inertia 150300.95097033918.\n",
            "Iteration 52, inertia 150229.27285884952.\n",
            "Iteration 53, inertia 150208.3266253868.\n",
            "Iteration 54, inertia 150181.72856186592.\n",
            "Iteration 55, inertia 150180.0068654592.\n",
            "Iteration 56, inertia 150178.88598297618.\n",
            "Iteration 57, inertia 150178.39485626682.\n",
            "Iteration 58, inertia 150177.94313691233.\n",
            "Converged at iteration 58: center shift 5.02837304641363e-05 within tolerance 9.999999999999961e-05.\n",
            "Initialization complete\n",
            "Iteration 0, inertia 190082.00505632334.\n",
            "Iteration 1, inertia 164200.05174184704.\n",
            "Iteration 2, inertia 159630.8493032435.\n",
            "Iteration 3, inertia 157526.2216750971.\n",
            "Iteration 4, inertia 155836.9202948148.\n",
            "Iteration 5, inertia 154532.88467842035.\n",
            "Iteration 6, inertia 153442.60653271986.\n",
            "Iteration 7, inertia 152273.6142888352.\n",
            "Iteration 8, inertia 151529.02539215505.\n",
            "Iteration 9, inertia 151051.80110091218.\n",
            "Iteration 10, inertia 150716.05889204808.\n",
            "Iteration 11, inertia 150539.93618736108.\n",
            "Iteration 12, inertia 150414.53827031358.\n",
            "Iteration 13, inertia 150284.31471604935.\n",
            "Iteration 14, inertia 150175.9246280959.\n",
            "Iteration 15, inertia 150088.33186534827.\n",
            "Iteration 16, inertia 149993.38375810528.\n",
            "Iteration 17, inertia 149906.54540928034.\n",
            "Iteration 18, inertia 149885.11132613165.\n",
            "Iteration 19, inertia 149873.86840491055.\n",
            "Iteration 20, inertia 149866.5362232909.\n",
            "Iteration 21, inertia 149858.92118806762.\n",
            "Iteration 22, inertia 149853.00851238496.\n",
            "Iteration 23, inertia 149844.27219680598.\n",
            "Iteration 24, inertia 149832.13503024605.\n",
            "Iteration 25, inertia 149823.85216886242.\n",
            "Iteration 26, inertia 149813.32627331142.\n",
            "Iteration 27, inertia 149802.2203611525.\n",
            "Iteration 28, inertia 149776.89790698254.\n",
            "Iteration 29, inertia 149728.68156690765.\n",
            "Iteration 30, inertia 149674.8685583902.\n",
            "Iteration 31, inertia 149637.1951097552.\n",
            "Iteration 32, inertia 149603.84631686073.\n",
            "Iteration 33, inertia 149588.52395082885.\n",
            "Iteration 34, inertia 149583.06013493.\n",
            "Iteration 35, inertia 149578.64940327627.\n",
            "Iteration 36, inertia 149576.01535081846.\n",
            "Iteration 37, inertia 149574.1179247097.\n",
            "Iteration 38, inertia 149571.76154164327.\n",
            "Iteration 39, inertia 149571.2097130352.\n",
            "Iteration 40, inertia 149569.48849047002.\n",
            "Iteration 41, inertia 149568.62198965644.\n",
            "Iteration 42, inertia 149567.9567836695.\n",
            "Iteration 43, inertia 149565.44908253683.\n",
            "Iteration 44, inertia 149563.2569200275.\n",
            "Iteration 45, inertia 149563.08418355612.\n",
            "Iteration 46, inertia 149562.98696840572.\n",
            "Converged at iteration 46: center shift 3.2204373934732607e-07 within tolerance 9.999999999999961e-05.\n",
            "Initialization complete\n",
            "Iteration 0, inertia 195308.04829687413.\n",
            "Iteration 1, inertia 168846.73521639238.\n",
            "Iteration 2, inertia 162775.93221668163.\n",
            "Iteration 3, inertia 159922.99367384598.\n",
            "Iteration 4, inertia 157894.25134139703.\n",
            "Iteration 5, inertia 156360.14268703948.\n",
            "Iteration 6, inertia 154826.90858985466.\n",
            "Iteration 7, inertia 153806.48633683394.\n",
            "Iteration 8, inertia 152891.8126696579.\n",
            "Iteration 9, inertia 151802.74479286643.\n",
            "Iteration 10, inertia 150777.93250933214.\n",
            "Iteration 11, inertia 150214.70465527117.\n",
            "Iteration 12, inertia 149859.81891559935.\n",
            "Iteration 13, inertia 149702.84065988992.\n",
            "Iteration 14, inertia 149588.1220509163.\n",
            "Iteration 15, inertia 149495.09555104494.\n",
            "Iteration 16, inertia 149457.11227221604.\n",
            "Iteration 17, inertia 149426.5519665335.\n",
            "Iteration 18, inertia 149372.97060825073.\n",
            "Iteration 19, inertia 149317.14602669445.\n",
            "Iteration 20, inertia 149271.85906539403.\n",
            "Iteration 21, inertia 149225.13006844875.\n",
            "Iteration 22, inertia 149175.32045791644.\n",
            "Iteration 23, inertia 149148.296832381.\n",
            "Iteration 24, inertia 149127.0882108865.\n",
            "Iteration 25, inertia 149113.49846626382.\n",
            "Iteration 26, inertia 149104.15730200728.\n",
            "Iteration 27, inertia 149094.14267249635.\n",
            "Iteration 28, inertia 149088.51295804227.\n",
            "Iteration 29, inertia 149085.20265091662.\n",
            "Iteration 30, inertia 149083.39390582868.\n",
            "Iteration 31, inertia 149081.5731472219.\n",
            "Iteration 32, inertia 149077.03670868155.\n",
            "Iteration 33, inertia 149069.0084389614.\n",
            "Iteration 34, inertia 149063.8667087626.\n",
            "Iteration 35, inertia 149061.39063838637.\n",
            "Iteration 36, inertia 149058.9570597843.\n",
            "Iteration 37, inertia 149057.8006618158.\n",
            "Iteration 38, inertia 149056.5696687493.\n",
            "Iteration 39, inertia 149054.95398710607.\n",
            "Iteration 40, inertia 149052.7817748634.\n",
            "Iteration 41, inertia 149051.37065503132.\n",
            "Iteration 42, inertia 149049.5302409212.\n",
            "Iteration 43, inertia 149046.3805929809.\n",
            "Iteration 44, inertia 149043.63652018397.\n",
            "Iteration 45, inertia 149042.82629788882.\n",
            "Iteration 46, inertia 149042.7325520837.\n",
            "Iteration 47, inertia 149042.50189290754.\n",
            "Iteration 48, inertia 149041.33838475443.\n",
            "Iteration 49, inertia 149040.87108241708.\n",
            "Iteration 50, inertia 149040.61114102817.\n",
            "Converged at iteration 50: center shift 8.248454388671644e-05 within tolerance 9.999999999999961e-05.\n",
            "Initialization complete\n",
            "Iteration 0, inertia 186625.8808335288.\n",
            "Iteration 1, inertia 159311.79415372832.\n",
            "Iteration 2, inertia 155002.0140041015.\n",
            "Iteration 3, inertia 153054.18321700173.\n",
            "Iteration 4, inertia 152175.3838299966.\n",
            "Iteration 5, inertia 151654.3655751873.\n",
            "Iteration 6, inertia 151295.85384004054.\n",
            "Iteration 7, inertia 151018.59384190917.\n",
            "Iteration 8, inertia 150838.78555718838.\n",
            "Iteration 9, inertia 150573.9001279516.\n",
            "Iteration 10, inertia 150268.7321755196.\n",
            "Iteration 11, inertia 150001.39925253307.\n",
            "Iteration 12, inertia 149827.64771593438.\n",
            "Iteration 13, inertia 149715.9781205847.\n",
            "Iteration 14, inertia 149653.99504690108.\n",
            "Iteration 15, inertia 149624.32320320775.\n",
            "Iteration 16, inertia 149612.87651017893.\n",
            "Iteration 17, inertia 149603.81891447736.\n",
            "Iteration 18, inertia 149590.37712638464.\n",
            "Iteration 19, inertia 149575.75860394962.\n",
            "Iteration 20, inertia 149548.08589488064.\n",
            "Iteration 21, inertia 149520.200513476.\n",
            "Iteration 22, inertia 149504.16597461753.\n",
            "Iteration 23, inertia 149488.56834758216.\n",
            "Iteration 24, inertia 149470.8351308488.\n",
            "Iteration 25, inertia 149447.75827890035.\n",
            "Iteration 26, inertia 149434.67107350967.\n",
            "Iteration 27, inertia 149428.42112633892.\n",
            "Iteration 28, inertia 149420.8039264304.\n",
            "Iteration 29, inertia 149405.64669911165.\n",
            "Iteration 30, inertia 149397.3050330058.\n",
            "Iteration 31, inertia 149396.6969115864.\n",
            "Iteration 32, inertia 149396.4318480536.\n",
            "Converged at iteration 32: center shift 9.229410265683265e-05 within tolerance 9.999999999999961e-05.\n",
            "Initialization complete\n",
            "Iteration 0, inertia 195584.93282478617.\n",
            "Iteration 1, inertia 168012.7505095462.\n",
            "Iteration 2, inertia 161160.6829036277.\n",
            "Iteration 3, inertia 158268.95078933134.\n",
            "Iteration 4, inertia 156959.01525394528.\n",
            "Iteration 5, inertia 156048.3355958236.\n",
            "Iteration 6, inertia 155219.25969619682.\n",
            "Iteration 7, inertia 154698.92919006268.\n",
            "Iteration 8, inertia 154112.85820377083.\n",
            "Iteration 9, inertia 153345.09468506728.\n",
            "Iteration 10, inertia 152485.21199599243.\n",
            "Iteration 11, inertia 151917.11445471828.\n",
            "Iteration 12, inertia 151442.08103935415.\n",
            "Iteration 13, inertia 151039.40296094437.\n",
            "Iteration 14, inertia 150716.58086834967.\n",
            "Iteration 15, inertia 150441.51425577234.\n",
            "Iteration 16, inertia 150140.7012429146.\n",
            "Iteration 17, inertia 149893.77892627573.\n",
            "Iteration 18, inertia 149682.13319132896.\n",
            "Iteration 19, inertia 149517.2161910001.\n",
            "Iteration 20, inertia 149397.0289037502.\n",
            "Iteration 21, inertia 149314.11377995662.\n",
            "Iteration 22, inertia 149241.0210508474.\n",
            "Iteration 23, inertia 149181.92368871096.\n",
            "Iteration 24, inertia 149116.09370937088.\n",
            "Iteration 25, inertia 149022.11808091612.\n",
            "Iteration 26, inertia 148923.54856336277.\n",
            "Iteration 27, inertia 148830.0080427195.\n",
            "Iteration 28, inertia 148743.28826207356.\n",
            "Iteration 29, inertia 148638.60452356326.\n",
            "Iteration 30, inertia 148459.53216154617.\n",
            "Iteration 31, inertia 148293.4353714136.\n",
            "Iteration 32, inertia 148114.94900025346.\n",
            "Iteration 33, inertia 147920.25929808654.\n",
            "Iteration 34, inertia 147762.98054443984.\n",
            "Iteration 35, inertia 147622.57192519525.\n",
            "Iteration 36, inertia 147515.34893524824.\n",
            "Iteration 37, inertia 147384.16753363656.\n",
            "Iteration 38, inertia 147267.10712060955.\n",
            "Iteration 39, inertia 147156.91297634123.\n",
            "Iteration 40, inertia 147092.0832575732.\n",
            "Iteration 41, inertia 147054.8692462457.\n",
            "Iteration 42, inertia 147032.17682417316.\n",
            "Iteration 43, inertia 147014.80530221676.\n",
            "Iteration 44, inertia 146998.07786277888.\n",
            "Iteration 45, inertia 146990.0194259471.\n",
            "Iteration 46, inertia 146985.66274722497.\n",
            "Iteration 47, inertia 146979.98762698148.\n",
            "Iteration 48, inertia 146975.9498399211.\n",
            "Iteration 49, inertia 146973.26575153583.\n",
            "Iteration 50, inertia 146967.56896956143.\n",
            "Iteration 51, inertia 146960.60992074833.\n",
            "Iteration 52, inertia 146954.72212716084.\n",
            "Iteration 53, inertia 146950.36743179773.\n",
            "Iteration 54, inertia 146948.65755709267.\n",
            "Iteration 55, inertia 146944.7496691445.\n",
            "Iteration 56, inertia 146933.46911873305.\n",
            "Iteration 57, inertia 146918.6066805099.\n",
            "Iteration 58, inertia 146910.38815854763.\n",
            "Iteration 59, inertia 146901.4026827331.\n",
            "Iteration 60, inertia 146880.1944364538.\n",
            "Iteration 61, inertia 146872.35267726588.\n",
            "Iteration 62, inertia 146869.41526598966.\n",
            "Iteration 63, inertia 146867.05500268828.\n",
            "Iteration 64, inertia 146866.25956474376.\n",
            "Iteration 65, inertia 146865.9596319551.\n",
            "Iteration 66, inertia 146865.53907751813.\n",
            "Iteration 67, inertia 146865.46776487888.\n",
            "Converged at iteration 67: center shift 4.7203582344837745e-05 within tolerance 9.999999999999961e-05.\n",
            "Initialization complete\n",
            "Iteration 0, inertia 194415.2746844175.\n",
            "Iteration 1, inertia 172479.3847925059.\n",
            "Iteration 2, inertia 167468.7753845829.\n",
            "Iteration 3, inertia 164725.9206434083.\n",
            "Iteration 4, inertia 162454.06066785436.\n",
            "Iteration 5, inertia 161078.61754874818.\n",
            "Iteration 6, inertia 159971.6443293768.\n",
            "Iteration 7, inertia 158800.44530195242.\n",
            "Iteration 8, inertia 158082.51276953754.\n",
            "Iteration 9, inertia 157634.05599971558.\n",
            "Iteration 10, inertia 157280.01198454257.\n",
            "Iteration 11, inertia 156965.94057168838.\n",
            "Iteration 12, inertia 156705.3615710494.\n",
            "Iteration 13, inertia 156509.7916966732.\n",
            "Iteration 14, inertia 156348.0158871447.\n",
            "Iteration 15, inertia 156214.1677435874.\n",
            "Iteration 16, inertia 156112.66950248345.\n",
            "Iteration 17, inertia 156008.37278985218.\n",
            "Iteration 18, inertia 155905.0820598522.\n",
            "Iteration 19, inertia 155800.59133623313.\n",
            "Iteration 20, inertia 155677.64141966202.\n",
            "Iteration 21, inertia 155560.1990661698.\n",
            "Iteration 22, inertia 155422.72276530397.\n",
            "Iteration 23, inertia 155164.59813071063.\n",
            "Iteration 24, inertia 154967.76445183682.\n",
            "Iteration 25, inertia 154703.63915863875.\n",
            "Iteration 26, inertia 154515.06514613418.\n",
            "Iteration 27, inertia 154346.1539139007.\n",
            "Iteration 28, inertia 154209.31234470586.\n",
            "Iteration 29, inertia 154089.3698130892.\n",
            "Iteration 30, inertia 153928.71297226317.\n",
            "Iteration 31, inertia 153703.2747951591.\n",
            "Iteration 32, inertia 153456.07275287173.\n",
            "Iteration 33, inertia 153226.1405631382.\n",
            "Iteration 34, inertia 153104.04772996713.\n",
            "Iteration 35, inertia 153034.82933556536.\n",
            "Iteration 36, inertia 152986.42826475058.\n",
            "Iteration 37, inertia 152942.73456266292.\n",
            "Iteration 38, inertia 152923.18955269185.\n",
            "Iteration 39, inertia 152915.46575445298.\n",
            "Iteration 40, inertia 152909.55151964657.\n",
            "Iteration 41, inertia 152903.17412838063.\n",
            "Iteration 42, inertia 152898.57816892807.\n",
            "Iteration 43, inertia 152893.1924352448.\n",
            "Iteration 44, inertia 152885.06079573886.\n",
            "Iteration 45, inertia 152877.8968829454.\n",
            "Iteration 46, inertia 152865.47966681997.\n",
            "Iteration 47, inertia 152849.90876959433.\n",
            "Iteration 48, inertia 152834.9460154308.\n",
            "Iteration 49, inertia 152810.0358098133.\n",
            "Iteration 50, inertia 152796.20327946945.\n",
            "Iteration 51, inertia 152786.60353270094.\n",
            "Iteration 52, inertia 152774.3442145765.\n",
            "Iteration 53, inertia 152764.59856281584.\n",
            "Iteration 54, inertia 152756.4438904008.\n",
            "Iteration 55, inertia 152751.92598168773.\n",
            "Iteration 56, inertia 152747.47060144995.\n",
            "Iteration 57, inertia 152741.2945497625.\n",
            "Iteration 58, inertia 152736.69294062353.\n",
            "Iteration 59, inertia 152733.96505931087.\n",
            "Iteration 60, inertia 152730.4194032663.\n",
            "Iteration 61, inertia 152725.71576192303.\n",
            "Iteration 62, inertia 152720.79648733517.\n",
            "Iteration 63, inertia 152715.6444112645.\n",
            "Iteration 64, inertia 152712.01941832138.\n",
            "Iteration 65, inertia 152706.57187925652.\n",
            "Iteration 66, inertia 152701.56081312438.\n",
            "Iteration 67, inertia 152697.4928888587.\n",
            "Iteration 68, inertia 152694.37708851302.\n",
            "Iteration 69, inertia 152691.0181151466.\n",
            "Iteration 70, inertia 152686.55475912488.\n",
            "Iteration 71, inertia 152682.3724477814.\n",
            "Iteration 72, inertia 152677.6264870476.\n",
            "Iteration 73, inertia 152669.67637111674.\n",
            "Iteration 74, inertia 152661.84846491966.\n",
            "Iteration 75, inertia 152653.71923685432.\n",
            "Iteration 76, inertia 152643.5595854991.\n",
            "Iteration 77, inertia 152636.41447681125.\n",
            "Iteration 78, inertia 152627.04521514394.\n",
            "Iteration 79, inertia 152612.70709675044.\n",
            "Iteration 80, inertia 152595.96326522736.\n",
            "Iteration 81, inertia 152581.83888803454.\n",
            "Iteration 82, inertia 152563.02392333117.\n",
            "Iteration 83, inertia 152544.98283943703.\n",
            "Iteration 84, inertia 152528.46548496347.\n",
            "Iteration 85, inertia 152510.28406589417.\n",
            "Iteration 86, inertia 152493.1255719203.\n",
            "Iteration 87, inertia 152481.86510041935.\n",
            "Iteration 88, inertia 152471.2388665427.\n",
            "Iteration 89, inertia 152468.28453113895.\n",
            "Iteration 90, inertia 152466.74372883028.\n",
            "Iteration 91, inertia 152466.1594263014.\n",
            "Iteration 92, inertia 152465.80423642808.\n",
            "Iteration 93, inertia 152465.66159018604.\n",
            "Iteration 94, inertia 152465.29817415492.\n",
            "Iteration 95, inertia 152464.22669332716.\n",
            "Iteration 96, inertia 152463.40244350204.\n",
            "Iteration 97, inertia 152462.76754854003.\n",
            "Iteration 98, inertia 152461.88750144356.\n",
            "Iteration 99, inertia 152461.19262577282.\n",
            "Iteration 100, inertia 152460.48037462152.\n",
            "Iteration 101, inertia 152459.46226790245.\n",
            "Iteration 102, inertia 152457.85103132916.\n",
            "Iteration 103, inertia 152457.21231657892.\n",
            "Iteration 104, inertia 152456.90394399303.\n",
            "Iteration 105, inertia 152456.70334461675.\n",
            "Iteration 106, inertia 152456.255914321.\n",
            "Iteration 107, inertia 152455.5294217032.\n",
            "Iteration 108, inertia 152455.21415967678.\n",
            "Iteration 109, inertia 152455.1742820779.\n",
            "Converged at iteration 109: strict convergence.\n"
          ]
        }
      ]
    },
    {
      "cell_type": "markdown",
      "source": [
        "We now have a set of cluster labels that group the data into 50 similar groups. Let's store it in our stacked dataset!"
      ],
      "metadata": {
        "id": "XZXYUggc8xex"
      }
    },
    {
      "cell_type": "code",
      "source": [
        "# Let's run this line\n",
        "stacked['clusters'].values = cluster_labels"
      ],
      "metadata": {
        "id": "aH0qNHM89GER"
      },
      "execution_count": 69,
      "outputs": []
    },
    {
      "cell_type": "markdown",
      "source": [
        "## Visualization"
      ],
      "metadata": {
        "id": "inC84qGpRLh5"
      }
    },
    {
      "cell_type": "markdown",
      "source": [
        "We now have a set of labels, but they're stored in a flattened array. Since we'd like to see the data as a map, we still have some work to do. Let's go back to a 2D representation of our values.\n",
        "\n",
        "### Q10) Turn the flattened xarray back into a set of 2D fields\n",
        "*Hint*: xarrays have an [`.unstack` method](https://xarray.pydata.org/en/stable/generated/xarray.DataArray.unstack.html) that you will find to be very useful for this."
      ],
      "metadata": {
        "id": "pFPN00oH9oI8"
      }
    },
    {
      "cell_type": "code",
      "source": [
        "# Complete the code:\n",
        "processed_ds = stacked.unstack()"
      ],
      "metadata": {
        "id": "lp1u28inKUNT"
      },
      "execution_count": 72,
      "outputs": []
    },
    {
      "cell_type": "markdown",
      "source": [
        "Now we have an unstacked dataset, and can now easily plot out the clusters we found!\n",
        "\n",
        "### Q11) Plot the 'cluster' variable using the built-in xarray function\n",
        "*Hint: `.plot()` [link text](https://xarray.pydata.org/en/stable/generated/xarray.DataArray.plot.html) let's you access the xarray implementations of [`pcolormesh`](https://matplotlib.org/3.1.1/api/_as_gen/matplotlib.pyplot.pcolormesh.html) and [`imshow`](https://matplotlib.org/3.1.1/api/_as_gen/matplotlib.pyplot.imshow.html).*"
      ],
      "metadata": {
        "id": "y4w0zUDn8OOU"
      }
    },
    {
      "cell_type": "code",
      "source": [
        "processed_ds['clusters'].plot(cmap='rainbow')"
      ],
      "metadata": {
        "id": "DLLCcgw_n3tu",
        "colab": {
          "base_uri": "https://localhost:8080/",
          "height": 476
        },
        "outputId": "acc78fdd-2140-4ae2-e078-815776ccd42f"
      },
      "execution_count": 75,
      "outputs": [
        {
          "output_type": "execute_result",
          "data": {
            "text/plain": [
              "<matplotlib.collections.QuadMesh at 0x7e841d3103a0>"
            ]
          },
          "metadata": {},
          "execution_count": 75
        },
        {
          "output_type": "display_data",
          "data": {
            "text/plain": [
              "<Figure size 640x480 with 2 Axes>"
            ],
            "image/png": "[encoded data removed]"
          },
          "metadata": {}
        }
      ]
    },
    {
      "cell_type": "markdown",
      "source": [
        "Compare your results to those from the paper:\n",
        "<img src='https://unils-my.sharepoint.com/:i:/g/personal/tom_beucler_unil_ch/EdLh6Ds0yVlFivyfIOXlV74B_G35dVz87GFagzylIG-gZA?download=1'>"
      ],
      "metadata": {
        "id": "sOja6JCxo45g"
      }
    },
    {
      "cell_type": "markdown",
      "source": [
        "We now want to find the 5 most common regimes, and group the rest. This isn't straightforward, so we've gone ahead and prepared the code for you. Run through it and try to understand what the code is doing!"
      ],
      "metadata": {
        "id": "HrLKLVWXtgeX"
      }
    },
    {
      "cell_type": "code",
      "source": [
        "# Make field filled with -1 vals so unprocessed points are easily retrieved.\n",
        "# Noise masked applied automatically by using previously found labels as base.\n",
        "processed_ds['final_clusters'] = (processed_ds.clusters * 0) - 1\n",
        "\n",
        "# Find the 5 most common cluster labels\n",
        "top_clusters = processed_ds.groupby('clusters').count().sortby('BPT').tail(5).clusters.values\n",
        "\n",
        "#Build the set of indices for the cluster data, used for rewriting cluster labels\n",
        "for idx, label in enumerate(top_clusters):\n",
        "    #Find the indices where the label is found\n",
        "    indices = (processed_ds.clusters == label)\n",
        "\n",
        "    processed_ds['final_clusters'].values[indices] = 4-idx\n",
        "\n",
        "# Set the remaining unlabeled regions to category 5 \"non-linear\"\n",
        "processed_ds['final_clusters'].values[processed_ds.final_clusters==-1] = 5\n",
        "\n",
        "# Plot the figure\n",
        "processed_ds.final_clusters.plot.imshow(cmap=mycmap, figsize=(18,8));"
      ],
      "metadata": {
        "id": "UO5OohbKptau",
        "colab": {
          "base_uri": "https://localhost:8080/",
          "height": 455
        },
        "outputId": "322d2e01-bc05-4daf-877f-39b1428b419c"
      },
      "execution_count": 76,
      "outputs": [
        {
          "output_type": "stream",
          "name": "stderr",
          "text": [
            "/usr/local/lib/python3.10/dist-packages/xarray/core/dataset.py:4802: UserWarning: No index created for dimension clusters because variable clusters is not a coordinate. To create an index for clusters, please first call `.set_coords('clusters')` on this object.\n",
            "  warnings.warn(\n"
          ]
        },
        {
          "output_type": "display_data",
          "data": {
            "text/plain": [
              "<Figure size 1800x800 with 2 Axes>"
            ],
            "image/png": "[encoded data removed]"
          },
          "metadata": {}
        }
      ]
    },
    {
      "cell_type": "code",
      "source": [
        "# Some details may not be the same but the the resemblance is striking"
      ],
      "metadata": {
        "id": "IHSj9yRaUCSg"
      },
      "execution_count": null,
      "outputs": []
    },
    {
      "cell_type": "markdown",
      "source": [
        "Compare it to the regimes found in the paper:\n",
        "<img src='https://unils-my.sharepoint.com/:i:/g/personal/tom_beucler_unil_ch/EehuR9cUfaJImrw4DCAzDPoBiGuG7R3Ys6453Umi1cN_OQ?download=1'>\n",
        "\n"
      ],
      "metadata": {
        "id": "eEMmkpGkc1Xy"
      }
    },
    {
      "cell_type": "markdown",
      "source": [
        "The authors then went on to train neural networks ***to infer in-depth dynamics from data that is largely readily available from for example CMIP6 models, using NN methods to infer the source of predictive skill*** and ***to apply the trained Ensemble MLP to a climate model in order to assess circulation changes under global heating***.\n",
        "\n",
        "For our purposes, however, we will say goodbye to *THOR* at this point 😃"
      ],
      "metadata": {
        "id": "nbWgoD7bv8AH"
      }
    }
  ]
}